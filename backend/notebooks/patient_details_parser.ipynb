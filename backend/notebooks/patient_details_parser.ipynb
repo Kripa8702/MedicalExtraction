{
 "cells": [
  {
   "cell_type": "code",
   "execution_count": 172,
   "metadata": {},
   "outputs": [],
   "source": [
    "from pdf2image import convert_from_path"
   ]
  },
  {
   "cell_type": "code",
   "execution_count": 173,
   "metadata": {},
   "outputs": [],
   "source": [
    "pages = convert_from_path(r\"../resources/patient_details/pd_2.pdf\", poppler_path=\"C:/poppler-24.08.0/Library/bin\")"
   ]
  },
  {
   "cell_type": "code",
   "execution_count": 174,
   "metadata": {},
   "outputs": [],
   "source": [
    "import pytesseract\n",
    "\n",
    "pytesseract.pytesseract.tesseract_cmd = r'C:\\Program Files\\Tesseract-OCR\\tesseract.exe'\n",
    "text = pytesseract.image_to_string(pages[0], lang='eng')"
   ]
  },
  {
   "cell_type": "code",
   "execution_count": 175,
   "metadata": {},
   "outputs": [],
   "source": [
    "import numpy as np\n",
    "import cv2\n",
    "from PIL import Image\n",
    "\n",
    "def preprocess_image(img, constant=11):\n",
    "    # Convert to grey image if colored\n",
    "    grey_img = cv2.cvtColor(np.array(img), cv2.COLOR_BGR2GRAY)\n",
    "    \n",
    "    # Resize image \n",
    "    resized_img = cv2.resize(grey_img, None, fx= 1.5, fy= 1.5, interpolation=cv2.INTER_LINEAR)\n",
    "    \n",
    "    # Process image by adding adaptive threshold\n",
    "    processed_image = cv2.adaptiveThreshold(\n",
    "    resized_img, 255,\n",
    "    cv2.ADAPTIVE_THRESH_GAUSSIAN_C,\n",
    "    cv2.THRESH_BINARY,\n",
    "    61,\n",
    "    constant)\n",
    "    return processed_image"
   ]
  },
  {
   "cell_type": "code",
   "execution_count": 176,
   "metadata": {},
   "outputs": [],
   "source": [
    "img = preprocess_image(pages[0], constant=11)\n",
    "# Image.fromarray(img).show()  "
   ]
  },
  {
   "cell_type": "code",
   "execution_count": 177,
   "metadata": {},
   "outputs": [
    {
     "name": "stdout",
     "output_type": "stream",
     "text": [
      "Patient Medical Record\n",
      "\n",
      "Patient Information Birth Date\n",
      "\n",
      "Jerry Lucas May 2 1998\n",
      "\n",
      "(279) 920-8204 Weight:\n",
      "\n",
      "4218 Wheeler Ridge Dr 57\n",
      "\n",
      "Buffalo, New York, 14201 Height:\n",
      "\n",
      "United States gnt\n",
      "170\n",
      "\n",
      "In Case of Emergency\n",
      "\n",
      "eee\n",
      "\n",
      "Joe Lucas . 4218 Wheeler Ridge Dr\n",
      "Buffalo, New York, 14201\n",
      "Home phone United States\n",
      "Work phone\n",
      "\n",
      "General Medical History\n",
      "\n",
      "Chicken Pox (Varicelia): Measles: ..\n",
      "\n",
      "IMMUNE NOT IMMUNE\n",
      "\n",
      "Have you had the Hepatitis B vaccination?\n",
      "\n",
      "‘Yes\n",
      "\n",
      "| List any Medical Problems (asthma, seizures, headaches):\n",
      "N/A\n",
      "\n",
      "7?\n",
      "v\n",
      "\n",
      "17/12/2020\n",
      "\n",
      "\n"
     ]
    }
   ],
   "source": [
    "pytesseract.pytesseract.tesseract_cmd = r'C:\\Program Files\\Tesseract-OCR\\tesseract.exe'\n",
    "text = pytesseract.image_to_string(img, lang='eng')\n",
    "print(text)"
   ]
  },
  {
   "cell_type": "code",
   "execution_count": 178,
   "metadata": {},
   "outputs": [
    {
     "ename": "IndexError",
     "evalue": "list index out of range",
     "output_type": "error",
     "traceback": [
      "\u001b[1;31m---------------------------------------------------------------------------\u001b[0m",
      "\u001b[1;31mIndexError\u001b[0m                                Traceback (most recent call last)",
      "Cell \u001b[1;32mIn[178], line 5\u001b[0m\n\u001b[0;32m      3\u001b[0m name_pattern \u001b[38;5;241m=\u001b[39m \u001b[38;5;124m\"\u001b[39m\u001b[38;5;124mName:(.*)Date\u001b[39m\u001b[38;5;124m\"\u001b[39m\n\u001b[0;32m      4\u001b[0m name_match \u001b[38;5;241m=\u001b[39m re\u001b[38;5;241m.\u001b[39mfindall(name_pattern, text)\n\u001b[1;32m----> 5\u001b[0m \u001b[43mname_match\u001b[49m\u001b[43m[\u001b[49m\u001b[38;5;241;43m0\u001b[39;49m\u001b[43m]\u001b[49m\u001b[38;5;241m.\u001b[39mstrip()\n",
      "\u001b[1;31mIndexError\u001b[0m: list index out of range"
     ]
    }
   ],
   "source": [
    "import re\n",
    "\n",
    "name_pattern = \"Name:(.*)Date\"\n",
    "name_match = re.findall(name_pattern, text)\n",
    "name_match[0].strip()"
   ]
  },
  {
   "cell_type": "code",
   "execution_count": null,
   "metadata": {},
   "outputs": [
    {
     "data": {
      "text/plain": [
       "'9 tennis court, new Russia, DC'"
      ]
     },
     "execution_count": 104,
     "metadata": {},
     "output_type": "execute_result"
    }
   ],
   "source": [
    "address_pattern = \"Address: (.*)\\n\"\n",
    "address = re.findall(address_pattern, text)\n",
    "address[0].strip()"
   ]
  },
  {
   "cell_type": "code",
   "execution_count": null,
   "metadata": {},
   "outputs": [
    {
     "name": "stdout",
     "output_type": "stream",
     "text": [
      "K\n",
      "\n",
      "Prednisone 20 mg\n",
      "Lialda 2.4 gram\n"
     ]
    }
   ],
   "source": [
    "medicine_pattern = \"Address: [^\\n]*(.*)Directions\"\n",
    "medicine = re.findall(medicine_pattern, text, flags=re.DOTALL)\n",
    "print(medicine[0].strip())"
   ]
  },
  {
   "cell_type": "code",
   "execution_count": null,
   "metadata": {},
   "outputs": [
    {
     "ename": "IndexError",
     "evalue": "list index out of range",
     "output_type": "error",
     "traceback": [
      "\u001b[1;31m---------------------------------------------------------------------------\u001b[0m",
      "\u001b[1;31mIndexError\u001b[0m                                Traceback (most recent call last)",
      "Cell \u001b[1;32mIn[106], line 3\u001b[0m\n\u001b[0;32m      1\u001b[0m hepatitis_pattern \u001b[38;5;241m=\u001b[39m \u001b[38;5;124m\"\u001b[39m\u001b[38;5;124mHave you had the Hepatitis B vaccination\u001b[39m\u001b[38;5;124m\\\u001b[39m\u001b[38;5;124m?\u001b[39m\u001b[38;5;130;01m\\n\u001b[39;00m\u001b[38;5;130;01m\\n\u001b[39;00m\u001b[38;5;124m(.*)\u001b[39m\u001b[38;5;130;01m\\n\u001b[39;00m\u001b[38;5;124m\"\u001b[39m\n\u001b[0;32m      2\u001b[0m hepatitis \u001b[38;5;241m=\u001b[39m re\u001b[38;5;241m.\u001b[39mfindall(hepatitis_pattern, text)\n\u001b[1;32m----> 3\u001b[0m \u001b[38;5;28mprint\u001b[39m(\u001b[43mhepatitis\u001b[49m\u001b[43m[\u001b[49m\u001b[38;5;241;43m0\u001b[39;49m\u001b[43m]\u001b[49m\u001b[38;5;241m.\u001b[39mstrip())\n",
      "\u001b[1;31mIndexError\u001b[0m: list index out of range"
     ]
    }
   ],
   "source": [
    "hepatitis_pattern = \"Have you had the Hepatitis B vaccination\\?\\n\\n(.*)\\n\"\n",
    "hepatitis = re.findall(hepatitis_pattern, text)\n",
    "print(hepatitis[0].strip())"
   ]
  }
 ],
 "metadata": {
  "kernelspec": {
   "display_name": "Python 3",
   "language": "python",
   "name": "python3"
  },
  "language_info": {
   "codemirror_mode": {
    "name": "ipython",
    "version": 3
   },
   "file_extension": ".py",
   "mimetype": "text/x-python",
   "name": "python",
   "nbconvert_exporter": "python",
   "pygments_lexer": "ipython3",
   "version": "3.11.6"
  }
 },
 "nbformat": 4,
 "nbformat_minor": 2
}
