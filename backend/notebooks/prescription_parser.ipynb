{
 "cells": [
  {
   "cell_type": "code",
   "execution_count": 37,
   "metadata": {},
   "outputs": [],
   "source": [
    "from pdf2image import convert_from_path"
   ]
  },
  {
   "cell_type": "code",
   "execution_count": 38,
   "metadata": {},
   "outputs": [],
   "source": [
    "pages = convert_from_path(r\"../resources/prescription/pre_1.pdf\", poppler_path=\"C:/poppler-24.08.0/Library/bin\")"
   ]
  },
  {
   "cell_type": "code",
   "execution_count": 39,
   "metadata": {},
   "outputs": [],
   "source": [
    "import pytesseract\n",
    "\n",
    "pytesseract.pytesseract.tesseract_cmd = r'C:\\Program Files\\Tesseract-OCR\\tesseract.exe'\n",
    "text = pytesseract.image_to_string(pages[0], lang='eng')"
   ]
  },
  {
   "cell_type": "code",
   "execution_count": 40,
   "metadata": {},
   "outputs": [],
   "source": [
    "import numpy as np\n",
    "import cv2\n",
    "from PIL import Image\n",
    "\n",
    "def preprocess_image(img):\n",
    "    # Convert to grey image if colored\n",
    "    grey_img = cv2.cvtColor(np.array(img), cv2.COLOR_BGR2GRAY)\n",
    "    \n",
    "    # Resize image \n",
    "    resized_img = cv2.resize(grey_img, None, fx= 1.5, fy= 1.5, interpolation=cv2.INTER_LINEAR)\n",
    "    \n",
    "    # Process image by adding adaptive threshold\n",
    "    processed_image = cv2.adaptiveThreshold(\n",
    "    resized_img, 255,\n",
    "    cv2.ADAPTIVE_THRESH_GAUSSIAN_C,\n",
    "    cv2.THRESH_BINARY,\n",
    "    61,\n",
    "    11)\n",
    "    return processed_image"
   ]
  },
  {
   "cell_type": "code",
   "execution_count": 41,
   "metadata": {},
   "outputs": [],
   "source": [
    "img = preprocess_image(pages[0])\n",
    "# Image.fromarray(img).show()"
   ]
  },
  {
   "cell_type": "code",
   "execution_count": 42,
   "metadata": {},
   "outputs": [
    {
     "name": "stdout",
     "output_type": "stream",
     "text": [
      "Dr John Smith, M.D\n",
      "2 Non-Important Street,\n",
      "New York, Phone (000)-111-2222\n",
      "\n",
      "Name: Marta Sharapova Date: 5/11/2022\n",
      "\n",
      "Address: 9 tennis court, new Russia, DC\n",
      "\n",
      "K\n",
      "\n",
      "Prednisone 20 mg\n",
      "Lialda 2.4 gram\n",
      "\n",
      "Directions:\n",
      "\n",
      "Prednisone, Taper 5 mig every 3 days,\n",
      "Finish in 2.5 weeks a\n",
      "Lialda - take 2 pill everyday for 1 month\n",
      "\n",
      "Refill: 2 times\n",
      "\n"
     ]
    }
   ],
   "source": [
    "pytesseract.pytesseract.tesseract_cmd = r'C:\\Program Files\\Tesseract-OCR\\tesseract.exe'\n",
    "text = pytesseract.image_to_string(img, lang='eng')\n",
    "print(text)"
   ]
  },
  {
   "cell_type": "code",
   "execution_count": 43,
   "metadata": {},
   "outputs": [
    {
     "data": {
      "text/plain": [
       "'Marta Sharapova'"
      ]
     },
     "execution_count": 43,
     "metadata": {},
     "output_type": "execute_result"
    }
   ],
   "source": [
    "import re\n",
    "\n",
    "name_pattern = \"Name:(.*)Date\"\n",
    "name_match = re.findall(name_pattern, text)\n",
    "name_match[0].strip()"
   ]
  },
  {
   "cell_type": "code",
   "execution_count": 44,
   "metadata": {},
   "outputs": [
    {
     "data": {
      "text/plain": [
       "'9 tennis court, new Russia, DC'"
      ]
     },
     "execution_count": 44,
     "metadata": {},
     "output_type": "execute_result"
    }
   ],
   "source": [
    "address_pattern = \"Address: (.*)\\n\"\n",
    "address = re.findall(address_pattern, text)\n",
    "address[0].strip()"
   ]
  },
  {
   "cell_type": "code",
   "execution_count": 45,
   "metadata": {},
   "outputs": [
    {
     "name": "stdout",
     "output_type": "stream",
     "text": [
      "K\n",
      "\n",
      "Prednisone 20 mg\n",
      "Lialda 2.4 gram\n"
     ]
    }
   ],
   "source": [
    "medicine_pattern = \"Address: [^\\n]*(.*)Directions\"\n",
    "medicine = re.findall(medicine_pattern, text, flags=re.DOTALL)\n",
    "print(medicine[0].strip())"
   ]
  }
 ],
 "metadata": {
  "kernelspec": {
   "display_name": "Python 3",
   "language": "python",
   "name": "python3"
  },
  "language_info": {
   "codemirror_mode": {
    "name": "ipython",
    "version": 3
   },
   "file_extension": ".py",
   "mimetype": "text/x-python",
   "name": "python",
   "nbconvert_exporter": "python",
   "pygments_lexer": "ipython3",
   "version": "3.11.6"
  }
 },
 "nbformat": 4,
 "nbformat_minor": 2
}
